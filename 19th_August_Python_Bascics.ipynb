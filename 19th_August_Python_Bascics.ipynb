{
 "cells": [
  {
   "cell_type": "markdown",
   "id": "17e360cc-beb0-491d-80f3-23b6301a6ef0",
   "metadata": {},
   "source": [
    "Python Basics Variable\n",
    "1. Declare two variables, `x` and `y`, and assign them integer values.\n",
    "Swap the values of these variables without using any temporary\n",
    "variable.\n",
    "\n",
    "2. Create a program that calculates the area of a rectangle. Take the\n",
    "length and width as inputs from the user and store them in variables.\n",
    "Calculate and display the area.\n",
    "3. Write a Python program that converts temperature from Celsius to\n",
    "Fahrenheit. Take the temperature in Celsius as input, store it in a\n",
    "variable, convert it to Fahrenheit, and display the result."
   ]
  },
  {
   "cell_type": "code",
   "execution_count": 1,
   "id": "871aaf56-1aad-45c1-8c40-c6f86c473963",
   "metadata": {},
   "outputs": [
    {
     "name": "stdout",
     "output_type": "stream",
     "text": [
      "X values is 23\n",
      "Y values is 45\n"
     ]
    }
   ],
   "source": [
    "#1. Solution\n",
    "x=45\n",
    "y=23\n",
    "y,x = x,y   #Using Multiple Assignment to use Swapping the value\n",
    "print('X values is',x)\n",
    "print('Y values is',y)"
   ]
  },
  {
   "cell_type": "code",
   "execution_count": 7,
   "id": "d36c587a-da1d-4618-9b09-195f3ab43f48",
   "metadata": {},
   "outputs": [
    {
     "name": "stdin",
     "output_type": "stream",
     "text": [
      "Enter the Length of rectangle?  2\n",
      "Enter the Width of rectangle?  2\n"
     ]
    },
    {
     "name": "stdout",
     "output_type": "stream",
     "text": [
      "Area of Rectangle 4\n"
     ]
    }
   ],
   "source": [
    "#2. Solution\n",
    "try:\n",
    "    length = int(input(\"Enter the Length of rectangle? \"))\n",
    "    Width = int(input(\"Enter the Width of rectangle? \"))\n",
    "    Area = length * Width\n",
    "    print('Area of Rectangle',Area)\n",
    "except ValueError:\n",
    "    print('Enter the Number as numeric, try again')\n",
    "    "
   ]
  },
  {
   "cell_type": "code",
   "execution_count": 12,
   "id": "d3d26d4d-8927-42d3-b389-e31c40279399",
   "metadata": {},
   "outputs": [
    {
     "name": "stdin",
     "output_type": "stream",
     "text": [
      "Enter the Temperature in Celsius to convert it into Fahrenheit 4\n"
     ]
    },
    {
     "name": "stdout",
     "output_type": "stream",
     "text": [
      "Temperature in Fahrenheit :- 39.2\n"
     ]
    }
   ],
   "source": [
    "#3. Solution \n",
    "try:\n",
    "    Celsius = int(input('Enter the Temperature in Celsius to convert it into Fahrenheit'))\n",
    "    Fahrenheit = (Celsius * (9/5)) + 32\n",
    "    print('Temperature in Fahrenheit :-',Fahrenheit)\n",
    "except ValueError:\n",
    "    print('Enter the Number as numeric, try again')\n"
   ]
  },
  {
   "cell_type": "code",
   "execution_count": null,
   "id": "263d099f-91b4-49c6-9251-d553022dc5ec",
   "metadata": {},
   "outputs": [],
   "source": []
  },
  {
   "cell_type": "code",
   "execution_count": null,
   "id": "a7e2a6f7-a1da-4445-b06f-ee32047b6566",
   "metadata": {},
   "outputs": [],
   "source": []
  },
  {
   "cell_type": "markdown",
   "id": "9479b920-9fb0-4e34-86f9-8a3104bb0fb6",
   "metadata": {},
   "source": [
    "TOPIC: String Based Questions\n",
    "\n",
    "1. Write a Python program that takes a string as input and prints the\n",
    "length of the string.\n",
    "2. Create a program that takes a sentence from the user and counts the\n",
    "number of vowels (a, e, i, o, u) in the string.\n",
    "3. Given a string, reverse the order of characters using string slicing and\n",
    "print the reversed string.\n",
    "4. Write a program that takes a string as input and checks if it is a\n",
    "palindrome (reads the same forwards and backwards).\n",
    "5. Create a program that takes a string as input and removes all the\n",
    "spaces from it. Print the modified string without spaces."
   ]
  },
  {
   "cell_type": "code",
   "execution_count": 14,
   "id": "1235420c-1adf-49c3-8d0d-b961a89bd11e",
   "metadata": {},
   "outputs": [
    {
     "name": "stdin",
     "output_type": "stream",
     "text": [
      "Enter the string to find the length Amit Mishra\n"
     ]
    },
    {
     "name": "stdout",
     "output_type": "stream",
     "text": [
      "Length of enter string is: -  11\n"
     ]
    }
   ],
   "source": [
    "#Solution for 1\n",
    "string = input('Enter the string to find the length')\n",
    "print('Length of enter string is: - ',len(string))"
   ]
  },
  {
   "cell_type": "code",
   "execution_count": 24,
   "id": "c2ab50f8-0c76-42d7-8f38-0bfd44491bd6",
   "metadata": {},
   "outputs": [
    {
     "name": "stdin",
     "output_type": "stream",
     "text": [
      "Enter the Sentence to find the Count of Vowels presence aghgfd f4hyt7ikbgf xavdvrwqeewe gfgyju7iot45 zxcvbnm asdfghjkl poiuytrewq qaz wsx rfv tgb yhn ujm ik, ol. p;\n"
     ]
    },
    {
     "name": "stdout",
     "output_type": "stream",
     "text": [
      "Total Vowel in Sentence is : \n",
      " a :- 4, e :-4, i :-4, o :-3 ,u :-3\n"
     ]
    }
   ],
   "source": [
    "#Solution for 2\n",
    "string = input('Enter the Sentence to find the Count of Vowels presence')\n",
    "string = string.lower()\n",
    "print(f\"Total Vowel in Sentence is : \\n a :- {string.count('a')}, e :-{string.count('e')}, i :-{string.count('i')}, o :-{string.count('o')} ,u :-{string.count('u')}\")\n"
   ]
  },
  {
   "cell_type": "code",
   "execution_count": 26,
   "id": "f12a7001-5773-4fda-a7ea-7f1213a8869a",
   "metadata": {},
   "outputs": [
    {
     "name": "stdin",
     "output_type": "stream",
     "text": [
      "Enter the Sentence to reverse it Amit\n"
     ]
    },
    {
     "name": "stdout",
     "output_type": "stream",
     "text": [
      "timA\n"
     ]
    }
   ],
   "source": [
    "# Solution for 3\n",
    "string = input('Enter the Sentence to reverse it')\n",
    "print(string[::-1])\n"
   ]
  },
  {
   "cell_type": "code",
   "execution_count": 31,
   "id": "e60ddea0-ed40-4595-b64a-a1d5209bf3fd",
   "metadata": {},
   "outputs": [
    {
     "name": "stdin",
     "output_type": "stream",
     "text": [
      "Enter the String to Check palindrome  Madam  \n"
     ]
    },
    {
     "name": "stdout",
     "output_type": "stream",
     "text": [
      "Entered string is palindrome or Not:-  True\n"
     ]
    }
   ],
   "source": [
    "# Solution for 4\n",
    "string = input('Enter the String to Check palindrome: - ')\n",
    "string = string.lower().strip()\n",
    "print('Entered string is palindrome or Not:- ', string == string[::-1])"
   ]
  },
  {
   "cell_type": "code",
   "execution_count": 41,
   "id": "2f89dbd9-95ee-4e27-aa21-f0732901cc2a",
   "metadata": {},
   "outputs": [
    {
     "name": "stdin",
     "output_type": "stream",
     "text": [
      "Enter the String to remove the spaces: -  amit            mishra mmmmmm     \n"
     ]
    },
    {
     "name": "stdout",
     "output_type": "stream",
     "text": [
      "amitmishrammmmmm\n"
     ]
    }
   ],
   "source": [
    "# Solution for 5\n",
    "string = input('Enter the String to remove the spaces: - ')\n",
    "string = string.replace(' ','').strip()\n",
    "print(string)"
   ]
  },
  {
   "cell_type": "code",
   "execution_count": null,
   "id": "dd715adf-d906-4403-8ec8-6a6837aea735",
   "metadata": {},
   "outputs": [],
   "source": []
  },
  {
   "cell_type": "code",
   "execution_count": null,
   "id": "7108ec8c-bf65-4ebf-bc07-3cbd1c9ee117",
   "metadata": {},
   "outputs": [],
   "source": []
  },
  {
   "cell_type": "code",
   "execution_count": null,
   "id": "3b3871a9-8b14-4019-a7b6-49a41fbd65b3",
   "metadata": {},
   "outputs": [],
   "source": []
  }
 ],
 "metadata": {
  "kernelspec": {
   "display_name": "Python 3 (ipykernel)",
   "language": "python",
   "name": "python3"
  },
  "language_info": {
   "codemirror_mode": {
    "name": "ipython",
    "version": 3
   },
   "file_extension": ".py",
   "mimetype": "text/x-python",
   "name": "python",
   "nbconvert_exporter": "python",
   "pygments_lexer": "ipython3",
   "version": "3.10.8"
  }
 },
 "nbformat": 4,
 "nbformat_minor": 5
}
